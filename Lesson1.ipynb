{
 "cells": [
  {
   "cell_type": "code",
   "execution_count": 1,
   "metadata": {},
   "outputs": [],
   "source": [
    "import numpy as np"
   ]
  },
  {
   "cell_type": "markdown",
   "metadata": {},
   "source": [
    "## Markcov Chains\n",
    "Absolutely, here's a rundown on Markov chains:\n",
    "\n",
    "* **Understanding the future based on the present:** A Markov chain is a mathematical tool used to predict the likelihood of future events based on the current state. Imagine a weather forecast - tomorrow's weather depends on today's weather, not necessarily on the weather conditions from days ago. That's the core idea behind Markov chains.\n",
    "\n",
    "* **Markov property - memoryless transitions:**  A key feature of Markov chains is the Markov property. This basically states that the probability of moving to a new state depends only on the current state, and not on the history of how you got there. So, if it's raining today, the chance of sunshine tomorrow depends only on today's rainy weather, not whether it rained yesterday or the day before.\n",
    "\n",
    "* **Applications:**  Markov chains find applications in various fields. For instance, they are used by search engines to suggest the most likely next word as you type, or in finance to model stock market fluctuations.  They are even used to create realistic-sounding artificial text!\n"
   ]
  },
  {
   "cell_type": "markdown",
   "metadata": {},
   "source": [
    "### Marcov Chains in Linear Algebra \n",
    "\n",
    "Linear algebra plays a crucial role in analyzing and understanding Markov chains. Here's how:\n",
    "\n",
    "**Transition Matrix:**\n",
    "\n",
    "* A core concept in Markov chains is the transition matrix. This matrix captures the probabilities of moving from one state to another.  Each element (i,j) in the matrix represents the probability of transitioning from state i to state j.\n",
    "\n",
    "* Linear algebra allows us to represent the transition probabilities of the entire system in a single matrix, making calculations and analysis much more efficient.\n",
    "\n",
    "**Eigenvalues and Eigenvectors:**\n",
    "\n",
    "* Eigenvalues and eigenvectors of the transition matrix hold valuable information about the long-term behavior of a Markov chain.\n",
    "\n",
    "* In particular, analyzing the dominant eigenvalue (the one with the largest absolute value) and its corresponding eigenvector can reveal the existence and properties of a stationary distribution.\n",
    "\n",
    "* A stationary distribution represents the long-term probabilities of being in each state.  This is useful for understanding the eventual behavior of the system after a long time.\n",
    "\n",
    "**Other Applications:**\n",
    "\n",
    "* Linear algebra is also used to study properties like periodicity (whether the chain cycles through states) and lumpability (collapsing groups of states that behave similarly).\n",
    "\n",
    "* Advanced techniques from linear algebra can be used to analyze more complex Markov chain models, like hidden Markov models used in speech recognition.\n",
    "\n",
    "Overall, linear algebra provides a powerful toolkit for manipulating and analyzing Markov chains. By representing transition probabilities as matrices and leveraging concepts like eigenvalues and eigenvectors, we can gain deep insights into the behavior of these probabilistic models.\n",
    "\n"
   ]
  },
  {
   "cell_type": "markdown",
   "metadata": {},
   "source": [
    "## Queing Systems in Healthcare\n",
    "\n",
    "Stochastic process - transitions between states. Increments with time have associated probabilities with transitions. Only one state occupation at a time. Discreate time or continious time markov chains are possible.\n",
    "\n",
    "Down the chains are end states. Tranision matricies are denominated with time. \n",
    "\n",
    "The state of a Markcov chain can be described by a vector $\\pi^{n}$, with $\\pi_{j}^{n}$ is the probabiliy of being in state j at time n."
   ]
  },
  {
   "cell_type": "code",
   "execution_count": 4,
   "metadata": {},
   "outputs": [
    {
     "data": {
      "text/plain": [
       "array([[0.9 , 0.07, 0.02, 0.01],\n",
       "       [0.  , 0.93, 0.05, 0.02],\n",
       "       [0.  , 0.  , 0.85, 0.15],\n",
       "       [0.  , 0.  , 0.  , 1.  ]])"
      ]
     },
     "execution_count": 4,
     "metadata": {},
     "output_type": "execute_result"
    }
   ],
   "source": [
    "A=np.array([[0.9,0.07,0.02,0.01],[0,0.93,0.05,0.02],[0,0,0.85,0.15],[0,0,0,1]])\n",
    "A"
   ]
  },
  {
   "cell_type": "code",
   "execution_count": 5,
   "metadata": {},
   "outputs": [
    {
     "data": {
      "text/plain": [
       "array([[0.9 , 0.  , 0.  , 0.  ],\n",
       "       [0.07, 0.93, 0.  , 0.  ],\n",
       "       [0.02, 0.05, 0.85, 0.  ],\n",
       "       [0.01, 0.02, 0.15, 1.  ]])"
      ]
     },
     "execution_count": 5,
     "metadata": {},
     "output_type": "execute_result"
    }
   ],
   "source": [
    "A.T"
   ]
  },
  {
   "cell_type": "code",
   "execution_count": 12,
   "metadata": {},
   "outputs": [
    {
     "data": {
      "text/plain": [
       "array([0.765 , 0.1525, 0.0645, 0.018 ])"
      ]
     },
     "execution_count": 12,
     "metadata": {},
     "output_type": "execute_result"
    }
   ],
   "source": [
    "#Ax=b\n",
    "x=np.array([0.85,0.1,0.05,0.0])\n",
    "\n",
    "pi=x*A\n",
    "pi2=np.dot(x,A)\n",
    "pi2"
   ]
  },
  {
   "cell_type": "code",
   "execution_count": 13,
   "metadata": {},
   "outputs": [
    {
     "data": {
      "text/plain": [
       "array([0.765 , 0.1525, 0.0645, 0.018 ])"
      ]
     },
     "execution_count": 13,
     "metadata": {},
     "output_type": "execute_result"
    }
   ],
   "source": [
    "A.T@x.T"
   ]
  },
  {
   "cell_type": "code",
   "execution_count": 15,
   "metadata": {},
   "outputs": [],
   "source": [
    "\n",
    "P=np.array([[6,5,3,1],[3,6,2,2],[3,4,3,1]])\n",
    "S=np.array([[1.5,1],[2,2.5],[5,4.5],[16,17]])\n"
   ]
  },
  {
   "cell_type": "code",
   "execution_count": 20,
   "metadata": {},
   "outputs": [
    {
     "data": {
      "text/plain": [
       "array([[50. , 49. ],\n",
       "       [58.5, 61. ],\n",
       "       [43.5, 43.5]])"
      ]
     },
     "execution_count": 20,
     "metadata": {},
     "output_type": "execute_result"
    }
   ],
   "source": [
    "P@S"
   ]
  },
  {
   "cell_type": "markdown",
   "metadata": {},
   "source": [
    "20x20 matricies, 0-255 for black and white, for colour three matricies are used in this format but for RBG.\n",
    "\n",
    "Convolutional NN - anything related to images, but also in translation (faster than RNNs)\n",
    "\n",
    "Tensors are just higher dimensional matricies."
   ]
  },
  {
   "cell_type": "markdown",
   "metadata": {},
   "source": [
    "## CNNs"
   ]
  },
  {
   "cell_type": "code",
   "execution_count": 3,
   "metadata": {},
   "outputs": [
    {
     "name": "stderr",
     "output_type": "stream",
     "text": [
      "C:\\Users\\rswal\\AppData\\Local\\Temp\\ipykernel_90616\\3151367801.py:8: DeprecationWarning: Please import `correlate` from the `scipy.ndimage` namespace; the `scipy.ndimage.filters` namespace is deprecated and will be removed in SciPy 2.0.0.\n",
      "  from scipy.ndimage.filters import correlate, convolve\n",
      "C:\\Users\\rswal\\AppData\\Local\\Temp\\ipykernel_90616\\3151367801.py:8: DeprecationWarning: Please import `convolve` from the `scipy.ndimage` namespace; the `scipy.ndimage.filters` namespace is deprecated and will be removed in SciPy 2.0.0.\n",
      "  from scipy.ndimage.filters import correlate, convolve\n"
     ]
    }
   ],
   "source": [
    "%matplotlib inline\n",
    "import math,sys,os,numpy as np\n",
    "from numpy.linalg import norm\n",
    "from PIL import Image\n",
    "from matplotlib import pyplot as plt, rcParams, rc\n",
    "from skimage.measure import block_reduce\n",
    "import pickle as pickle\n",
    "from scipy.ndimage.filters import correlate, convolve\n",
    "rc('animation', html='html5')\n",
    "rcParams['figure.figsize'] = 3, 6\n",
    "%precision 4\n",
    "np.set_printoptions(precision=4, linewidth=100)"
   ]
  },
  {
   "cell_type": "code",
   "execution_count": 44,
   "metadata": {},
   "outputs": [],
   "source": [
    "def plots(ims, interp=False, titles=None):\n",
    "    ims=np.array(ims)\n",
    "    mn,mx=ims.min(),ims.max()\n",
    "    f = plt.figure(figsize=(12,24))\n",
    "    for i in range(len(ims)):\n",
    "        sp=f.add_subplot(1, len(ims), i+1)\n",
    "        if not titles is None: sp.set_title(titles[i], fontsize=18)\n",
    "        plt.imshow(ims[i], interpolation=None if interp else 'none', vmin=mn,vmax=mx)\n",
    "\n",
    "def plot(im, interp=False):\n",
    "    f = plt.figure(figsize=(3,6))\n",
    "    plt.imshow(im)\n",
    "\n",
    "plt.gray()\n",
    "plt.close()"
   ]
  },
  {
   "cell_type": "markdown",
   "metadata": {},
   "source": [
    "## MNIST Data"
   ]
  },
  {
   "cell_type": "markdown",
   "metadata": {},
   "source": [
    "MNIST dataset is loadded using sklearn dataset API. The MNIST dataset is loaded as a bunch object which is a container object exposing keys as attributes."
   ]
  },
  {
   "cell_type": "code",
   "execution_count": 17,
   "metadata": {},
   "outputs": [],
   "source": [
    "from sklearn.datasets import load_digits\n",
    "mnist = load_digits()"
   ]
  },
  {
   "cell_type": "code",
   "execution_count": 18,
   "metadata": {},
   "outputs": [
    {
     "data": {
      "text/plain": [
       "dict_keys(['data', 'target', 'frame', 'feature_names', 'target_names', 'images', 'DESCR'])"
      ]
     },
     "execution_count": 18,
     "metadata": {},
     "output_type": "execute_result"
    }
   ],
   "source": [
    "mnist.keys()"
   ]
  },
  {
   "cell_type": "code",
   "execution_count": 38,
   "metadata": {},
   "outputs": [
    {
     "data": {
      "text/plain": [
       "\".. _digits_dataset:\\n\\nOptical recognition of handwritten digits dataset\\n--------------------------------------------------\\n\\n**Data Set Characteristics:**\\n\\n:Number of Instances: 1797\\n:Number of Attributes: 64\\n:Attribute Information: 8x8 image of integer pixels in the range 0..16.\\n:Missing Attribute Values: None\\n:Creator: E. Alpaydin (alpaydin '@' boun.edu.tr)\\n:Date: July; 1998\\n\\nThis is a copy of the test set of the UCI ML hand-written digits datasets\\nhttps://archive.ics.uci.edu/ml/datasets/Optical+Recognition+of+Handwritten+Digits\\n\\nThe data set contains images of hand-written digits: 10 classes where\\neach class refers to a digit.\\n\\nPreprocessing programs made available by NIST were used to extract\\nnormalized bitmaps of handwritten digits from a preprinted form. From a\\ntotal of 43 people, 30 contributed to the training set and different 13\\nto the test set. 32x32 bitmaps are divided into nonoverlapping blocks of\\n4x4 and the number of on pixels are counted in each block. This generates\\nan input matrix of 8x8 where each element is an integer in the range\\n0..16. This reduces dimensionality and gives invariance to small\\ndistortions.\\n\\nFor info on NIST preprocessing routines, see M. D. Garris, J. L. Blue, G.\\nT. Candela, D. L. Dimmick, J. Geist, P. J. Grother, S. A. Janet, and C.\\nL. Wilson, NIST Form-Based Handprint Recognition System, NISTIR 5469,\\n1994.\\n\\n|details-start|\\n**References**\\n|details-split|\\n\\n- C. Kaynak (1995) Methods of Combining Multiple Classifiers and Their\\n  Applications to Handwritten Digit Recognition, MSc Thesis, Institute of\\n  Graduate Studies in Science and Engineering, Bogazici University.\\n- E. Alpaydin, C. Kaynak (1998) Cascading Classifiers, Kybernetika.\\n- Ken Tang and Ponnuthurai N. Suganthan and Xi Yao and A. Kai Qin.\\n  Linear dimensionalityreduction using relevance weighted LDA. School of\\n  Electrical and Electronic Engineering Nanyang Technological University.\\n  2005.\\n- Claudio Gentile. A New Approximate Maximal Margin Classification\\n  Algorithm. NIPS. 2000.\\n\\n|details-end|\\n\""
      ]
     },
     "execution_count": 38,
     "metadata": {},
     "output_type": "execute_result"
    }
   ],
   "source": [
    "mnist.DESCR"
   ]
  },
  {
   "cell_type": "code",
   "execution_count": 20,
   "metadata": {},
   "outputs": [
    {
     "data": {
      "text/plain": [
       "((1797, 64), (1797,))"
      ]
     },
     "execution_count": 20,
     "metadata": {},
     "output_type": "execute_result"
    }
   ],
   "source": [
    "mnist['data'].shape, mnist['target'].shape"
   ]
  },
  {
   "cell_type": "code",
   "execution_count": 22,
   "metadata": {},
   "outputs": [
    {
     "data": {
      "text/plain": [
       "64"
      ]
     },
     "execution_count": 22,
     "metadata": {},
     "output_type": "execute_result"
    }
   ],
   "source": [
    "8*8"
   ]
  },
  {
   "cell_type": "code",
   "execution_count": 23,
   "metadata": {},
   "outputs": [
    {
     "data": {
      "text/plain": [
       "((1797, 8, 8), (1797,))"
      ]
     },
     "execution_count": 23,
     "metadata": {},
     "output_type": "execute_result"
    }
   ],
   "source": [
    "images = np.reshape(mnist['data'], (1797, 8, 8))\n",
    "labels = mnist['target'].astype(int)\n",
    "n=len(images)\n",
    "images.shape, labels.shape"
   ]
  },
  {
   "cell_type": "code",
   "execution_count": 25,
   "metadata": {},
   "outputs": [
    {
     "data": {
      "text/plain": [
       "(0.0000, 16.0000)"
      ]
     },
     "execution_count": 25,
     "metadata": {},
     "output_type": "execute_result"
    }
   ],
   "source": [
    "images.min(), images.max()"
   ]
  },
  {
   "cell_type": "code",
   "execution_count": 30,
   "metadata": {},
   "outputs": [
    {
     "data": {
      "text/plain": [
       "<matplotlib.image.AxesImage at 0x24a7c222710>"
      ]
     },
     "execution_count": 30,
     "metadata": {},
     "output_type": "execute_result"
    },
    {
     "data": {
      "image/png": "[encoded data removed]",
      "text/plain": [
       "<Figure size 300x600 with 1 Axes>"
      ]
     },
     "metadata": {},
     "output_type": "display_data"
    }
   ],
   "source": [
    "plt.imshow(images[2])"
   ]
  },
  {
   "cell_type": "code",
   "execution_count": 45,
   "metadata": {},
   "outputs": [
    {
     "data": {
      "image/png": "[encoded data removed]",
      "text/plain": [
       "<Figure size 300x600 with 1 Axes>"
      ]
     },
     "metadata": {},
     "output_type": "display_data"
    }
   ],
   "source": [
    "images=mnist.images\n",
    "images=images/16 #normalizing\n",
    "plot(images[0])"
   ]
  },
  {
   "cell_type": "code",
   "execution_count": 46,
   "metadata": {},
   "outputs": [
    {
     "data": {
      "text/plain": [
       "0"
      ]
     },
     "execution_count": 46,
     "metadata": {},
     "output_type": "execute_result"
    }
   ],
   "source": [
    "labels[0]"
   ]
  },
  {
   "cell_type": "code",
   "execution_count": 47,
   "metadata": {},
   "outputs": [
    {
     "data": {
      "image/png": "[encoded data removed]",
      "text/plain": [
       "<Figure size 1200x2400 with 5 Axes>"
      ]
     },
     "metadata": {},
     "output_type": "display_data"
    }
   ],
   "source": [
    "plots(images[:5], titles=labels[:5])"
   ]
  },
  {
   "cell_type": "code",
   "execution_count": 49,
   "metadata": {},
   "outputs": [
    {
     "data": {
      "image/png": "[encoded data removed]",
      "text/plain": [
       "<Figure size 300x600 with 1 Axes>"
      ]
     },
     "metadata": {},
     "output_type": "display_data"
    }
   ],
   "source": [
    "plot(images[0,0:2, 2:4]) #zoom"
   ]
  },
  {
   "cell_type": "markdown",
   "metadata": {},
   "source": [
    "### Edge Detection"
   ]
  },
  {
   "cell_type": "code",
   "execution_count": 50,
   "metadata": {},
   "outputs": [
    {
     "data": {
      "image/png": "[encoded data removed]",
      "text/plain": [
       "<Figure size 300x600 with 1 Axes>"
      ]
     },
     "metadata": {},
     "output_type": "display_data"
    }
   ],
   "source": [
    "top=[[-1,-1,-1],\n",
    "     [ 1, 1, 1],\n",
    "     [ 0, 0, 0]]\n",
    "\n",
    "plot(top)"
   ]
  },
  {
   "cell_type": "code",
   "execution_count": 51,
   "metadata": {},
   "outputs": [
    {
     "name": "stdout",
     "output_type": "stream",
     "text": [
      "Help on IndexExpression in module numpy.lib.index_tricks object:\n",
      "\n",
      "class IndexExpression(builtins.object)\n",
      " |  IndexExpression(maketuple)\n",
      " |  \n",
      " |  A nicer way to build up index tuples for arrays.\n",
      " |  \n",
      " |  .. note::\n",
      " |     Use one of the two predefined instances `index_exp` or `s_`\n",
      " |     rather than directly using `IndexExpression`.\n",
      " |  \n",
      " |  For any index combination, including slicing and axis insertion,\n",
      " |  ``a[indices]`` is the same as ``a[np.index_exp[indices]]`` for any\n",
      " |  array `a`. However, ``np.index_exp[indices]`` can be used anywhere\n",
      " |  in Python code and returns a tuple of slice objects that can be\n",
      " |  used in the construction of complex index expressions.\n",
      " |  \n",
      " |  Parameters\n",
      " |  ----------\n",
      " |  maketuple : bool\n",
      " |      If True, always returns a tuple.\n",
      " |  \n",
      " |  See Also\n",
      " |  --------\n",
      " |  index_exp : Predefined instance that always returns a tuple:\n",
      " |     `index_exp = IndexExpression(maketuple=True)`.\n",
      " |  s_ : Predefined instance without tuple conversion:\n",
      " |     `s_ = IndexExpression(maketuple=False)`.\n",
      " |  \n",
      " |  Notes\n",
      " |  -----\n",
      " |  You can do all this with `slice()` plus a few special objects,\n",
      " |  but there's a lot to remember and this version is simpler because\n",
      " |  it uses the standard array indexing syntax.\n",
      " |  \n",
      " |  Examples\n",
      " |  --------\n",
      " |  >>> np.s_[2::2]\n",
      " |  slice(2, None, 2)\n",
      " |  >>> np.index_exp[2::2]\n",
      " |  (slice(2, None, 2),)\n",
      " |  \n",
      " |  >>> np.array([0, 1, 2, 3, 4])[np.s_[2::2]]\n",
      " |  array([2, 4])\n",
      " |  \n",
      " |  Methods defined here:\n",
      " |  \n",
      " |  __getitem__(self, item)\n",
      " |  \n",
      " |  __init__(self, maketuple)\n",
      " |      Initialize self.  See help(type(self)) for accurate signature.\n",
      " |  \n",
      " |  ----------------------------------------------------------------------\n",
      " |  Data descriptors defined here:\n",
      " |  \n",
      " |  __dict__\n",
      " |      dictionary for instance variables\n",
      " |  \n",
      " |  __weakref__\n",
      " |      list of weak references to the object\n",
      "\n"
     ]
    }
   ],
   "source": [
    "help(np.index_exp)"
   ]
  },
  {
   "cell_type": "code",
   "execution_count": 57,
   "metadata": {},
   "outputs": [
    {
     "data": {
      "text/plain": [
       "array([], shape=(0, 5), dtype=float64)"
      ]
     },
     "execution_count": 57,
     "metadata": {},
     "output_type": "execute_result"
    }
   ],
   "source": [
    "dims = np.index_exp[10:28:1,3:13]\n",
    "images[0][dims]"
   ]
  }
 ],
 "metadata": {
  "kernelspec": {
   "display_name": ".venv",
   "language": "python",
   "name": "python3"
  },
  "language_info": {
   "codemirror_mode": {
    "name": "ipython",
    "version": 3
   },
   "file_extension": ".py",
   "mimetype": "text/x-python",
   "name": "python",
   "nbconvert_exporter": "python",
   "pygments_lexer": "ipython3",
   "version": "3.11.9"
  }
 },
 "nbformat": 4,
 "nbformat_minor": 2
}
